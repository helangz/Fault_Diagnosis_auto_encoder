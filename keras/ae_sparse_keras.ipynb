{
 "cells": [
  {
   "cell_type": "code",
   "execution_count": null,
   "metadata": {},
   "outputs": [],
   "source": [
    "import keras\n",
    "from keras.layers import Input, ReLU, BatchNormalization,Dense, Dropout\n",
    "from keras.models import Model\n",
    "from keras.optimizers import RMSprop\n",
    "from keras import backend as K\n",
    "import numpy as np\n",
    "from keras import regularizers"
   ]
  },
  {
   "cell_type": "code",
   "execution_count": 35,
   "metadata": {},
   "outputs": [],
   "source": [
    "import pandas as pd\n",
    "import random\n",
    "#trainx=pd.read_csv('../data/x_1730.csv')\n",
    "#trainy=pd.read_csv('../data/y_1730.csv')\n",
    "trainx=pd.read_csv('../data/x_600_2_JN.csv')\n",
    "trainy=pd.read_csv('../data/y_600_2_JN.csv')"
   ]
  },
  {
   "cell_type": "code",
   "execution_count": 36,
   "metadata": {},
   "outputs": [],
   "source": [
    "index =list(trainx.index)\n",
    "random.Random(0).shuffle(index)\n",
    "num=int(len(index)/5*4)\n",
    "x_train,y_train=trainx.iloc[index[:num],:].values,trainy.iloc[index[:num],:].values\n",
    "x_test,y_test=trainx.iloc[index[num:],:].values,trainy.iloc[index[num:],:].values\n",
    "data_X=np.vstack([x_train,x_test])"
   ]
  },
  {
   "cell_type": "code",
   "execution_count": null,
   "metadata": {},
   "outputs": [],
   "source": [
    "K.clear_session()\n",
    "N=400\n",
    "H1=200\n",
    "H2=48\n",
    "le=0\n",
    "drop_rate=0.1\n",
    "input_img=Input(shape=(N,))\n",
    "# 编码层\n",
    "encoded=Dense(H1,activation='relu',activity_regularizer=regularizers.l1(le),kernel_regularizer=regularizers.l2(0.01))(input_img)\n",
    "encoded=BatchNormalization()(encoded)\n",
    "encoded=Dropout(drop_rate)(encoded)\n",
    "encoded=Dense(H2,activation='relu',activity_regularizer=regularizers.l1(le),kernel_regularizer=regularizers.l2(0.01))(encoded)\n",
    "encoder_output=BatchNormalization()(encoded)\n",
    "encoder_output=Dropout(drop_rate)(encoder_output)\n",
    "LR=Dense(4,activation='softmax',name='LR')(encoder_output)\n",
    "\n",
    "# 解码层\n",
    "decoded=Dense(H2,activation='relu',name='decoded_hidden3')(encoder_output)\n",
    "decoded=Dense(H1,activation='relu',name='decoded_hidden1')(decoded)\n",
    "decoded=Dense(N,activation='tanh',name='decoded_output')(decoded)\n",
    "\n",
    "# 构建自编码模型\n",
    "autoencoder=Model(inputs=input_img,outputs=decoded)\n",
    "\n",
    "# complile autoencoder 设置自编码的优化参数\n",
    "autoencoder.compile(optimizer='adam',loss='mse')\n",
    "# train\n",
    "hist=autoencoder.fit(data_X,data_X,epochs=15,batch_size=128,shuffle=True)"
   ]
  },
  {
   "cell_type": "code",
   "execution_count": null,
   "metadata": {},
   "outputs": [],
   "source": [
    "encoder=Model(inputs=input_img,outputs=LR)\n",
    "encoder.compile(optimizer='adam',loss='categorical_crossentropy',metrics=['categorical_accuracy'])\n",
    "encoder.fit(x_train,y_train,epochs=100,batch_size=248,shuffle=True)\n",
    "score=encoder.evaluate(x_test,y_test)\n",
    "print(score)"
   ]
  },
  {
   "cell_type": "code",
   "execution_count": 3,
   "metadata": {},
   "outputs": [
    {
     "data": {
      "text/plain": [
       "[10, 9, 8, 7, 6, 5, 4, 3, 2, 1, 0]"
      ]
     },
     "execution_count": 3,
     "metadata": {},
     "output_type": "execute_result"
    }
   ],
   "source": [
    "list(range(10,-1,-1))"
   ]
  },
  {
   "cell_type": "code",
   "execution_count": null,
   "metadata": {},
   "outputs": [],
   "source": []
  }
 ],
 "metadata": {
  "kernelspec": {
   "display_name": "Python 3",
   "language": "python",
   "name": "python3"
  },
  "language_info": {
   "codemirror_mode": {
    "name": "ipython",
    "version": 3
   },
   "file_extension": ".py",
   "mimetype": "text/x-python",
   "name": "python",
   "nbconvert_exporter": "python",
   "pygments_lexer": "ipython3",
   "version": "3.7.4"
  }
 },
 "nbformat": 4,
 "nbformat_minor": 2
}
