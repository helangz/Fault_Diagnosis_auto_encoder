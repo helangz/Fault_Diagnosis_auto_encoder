{
 "cells": [
  {
   "cell_type": "code",
   "execution_count": 1,
   "metadata": {},
   "outputs": [
    {
     "name": "stderr",
     "output_type": "stream",
     "text": [
      "Using TensorFlow backend.\n"
     ]
    }
   ],
   "source": [
    "import keras\n",
    "from keras.layers import Input, ReLU,Dense,Dropout,Conv1D,MaxPooling1D,UpSampling1D,BatchNormalization\n",
    "from keras.models import Model\n",
    "from keras.optimizers import RMSprop\n",
    "from keras import backend as K\n",
    "import numpy as np\n",
    "from keras.layers import Flatten\n",
    "import pandas as pd\n",
    "import random"
   ]
  },
  {
   "cell_type": "code",
   "execution_count": 3,
   "metadata": {},
   "outputs": [],
   "source": [
    "class_num=4\n",
    "speed1=1000\n",
    "speed2=800\n",
    "#trainx=pd.read_csv(f'../data/CRWU/x_{speed1}_{class_num}_f.csv')\n",
    "#trainy=pd.read_csv(f'../data/CRWU/y_{speed1}_{class_num}.csv')\n",
    "#x_test=pd.read_csv(f'../data/CRWU/x_{speed2}_{class_num}_f.csv').values\n",
    "#y_test=pd.read_csv(f'../data/CRWU/y_{speed2}_{class_num}.csv').values\n",
    "trainx=pd.read_csv(f'../data/JN/x_{speed1}_2_f.csv').iloc[:4000]\n",
    "trainy=pd.read_csv(f'../data/JN/y_{speed1}_2.csv').iloc[:4000]\n",
    "x_test=pd.read_csv(f'../data/JN/x_{speed2}_2_f.csv').iloc[:4000].values\n",
    "y_test=pd.read_csv(f'../data/JN/y_{speed2}_2.csv').iloc[:4000].values\n",
    "index =list(trainx.index)\n",
    "random.Random(0).shuffle(index)\n",
    "num=int(len(index)/5*5)\n",
    "x_train,y_train=trainx.iloc[index[:num],:].values,trainy.iloc[index[:num],:].values\n",
    "#x_test,y_test=trainx.iloc[index[num:],:].values,trainy.iloc[index[num:],:].values\n",
    "#data_X=np.vstack([x_train,x_test])\n",
    "def trans(data):\n",
    "    nm=np.zeros(data.shape)\n",
    "    for i in range(len(data)):\n",
    "        nm[i,:]=(data[i,:])/np.max(data[i,:])\n",
    "    return nm\n",
    "x_train=trans(x_train)\n",
    "x_test=trans(x_test)\n",
    "data_X=np.vstack([x_train,x_test])"
   ]
  },
  {
   "cell_type": "code",
   "execution_count": 3,
   "metadata": {},
   "outputs": [],
   "source": [
    "x_train1D=x_train.reshape(x_train.shape[0],1024,1).astype('float32')\n",
    "x_test1D=x_test.reshape(x_test.shape[0],1024,1).astype('float32')\n",
    "data_X1D=data_X.reshape(len(data_X),1024,1).astype('float32')"
   ]
  },
  {
   "cell_type": "code",
   "execution_count": 14,
   "metadata": {},
   "outputs": [],
   "source": [
    "\n",
    "K.clear_session()\n",
    "\n",
    "my_init=keras.initializers.glorot_uniform(seed=2020)\n",
    "input_image=Input((1024,1))\n",
    "#编码器 2个简单的卷积，2个最大池化，缩小为原来的1/4了\n",
    "encoder=Conv1D(16,32,padding='same',activation='relu',kernel_initializer=my_init)(input_image)\n",
    "encoder=MaxPooling1D(4)(encoder)\n",
    "#encoder=BatchNormalization()(encoder)\n",
    "encoder=Conv1D(8,10,padding='same',activation='relu',kernel_initializer=my_init)(encoder)\n",
    "encoder_out=MaxPooling1D(4)(encoder)\n",
    "#encoder_out=BatchNormalization()(encoder_out)\n",
    "x_=Flatten()(encoder_out)\n",
    "LR=Dense(class_num,activation='softmax',name='LR')(x_)                                                               \n",
    "# 构建编码模型，可以提取特征图片，展开了就是特征向量\n",
    "encoder_model = Model(inputs=input_image, outputs=encoder_out)\n",
    "\n",
    "#解码器，反过来                                                             \n",
    "decoder=UpSampling1D(4)(encoder_out)                                                                 \n",
    "decoder=Conv1D(8,10,padding='same',activation='relu',kernel_initializer=my_init)(decoder)                                               \n",
    "decoder=UpSampling1D(4)(decoder)\n",
    "decoder=Conv1D(16,32,padding='same',activation='relu',kernel_initializer=my_init)(decoder)\n",
    "#转成原始图片尺寸\n",
    "decoder_out=Conv1D(1,10, padding='same',activation='sigmoid',kernel_initializer=my_init)(decoder)\n",
    "                                                                \n",
    "autoencoder=Model(input_image,decoder_out)\n",
    "autoencoder.compile(optimizer='adam', loss='mean_squared_error')\n",
    "autoencoder.fit(data_X1D, data_X1D, epochs=5, batch_size=248, shuffle=True,verbose=1)"
   ]
  },
  {
   "cell_type": "code",
   "execution_count": 15,
   "metadata": {},
   "outputs": [],
   "source": [
    "encoder=Model(inputs=input_image,outputs=LR)\n",
    "encoder.compile(optimizer='adam',loss='categorical_crossentropy',metrics=['categorical_accuracy'])\n",
    "encoder.fit(x_train1D,y_train,epochs=50,batch_size=248,shuffle=True)\n",
    "score=encoder.evaluate(x_test1D,y_test)\n",
    "print(score)"
   ]
  },
  {
   "cell_type": "code",
   "execution_count": null,
   "metadata": {},
   "outputs": [],
   "source": [
    "testcnn_d=encoder.predict(x_test1D)\n",
    "def save_data(data,name):\n",
    "    sdata=pd.DataFrame(data,columns=list(range(data.shape[1])))\n",
    "    sdata.to_csv(f'./prob/{name}.csv',encoding='utf-8',index=None)\n",
    "save_data(testcnn_d,f'{speed1}_{speed2}_cnn')\n",
    "encoder.save(f'./model/model_{speed1}_{speed2}_cnn_m.h5')\n",
    "encoder.save_weights(f'./model/model_{speed1}_{speed2}_cnn_w.h5')\n",
    "with open('predict_prob.txt','a+') as f:\n",
    "    f.write(f'cnn_{speed1}_{speed2}'+'----'+str(score)+'\\n')"
   ]
  },
  {
   "cell_type": "code",
   "execution_count": 16,
   "metadata": {},
   "outputs": [],
   "source": [
    "model_json = encoder.to_json()\n",
    "with open(f'./model/model_cnn_m10.json', 'w') as file:\n",
    "    file.write(model_json)"
   ]
  }
 ],
 "metadata": {
  "kernelspec": {
   "display_name": "Python 3",
   "language": "python",
   "name": "python3"
  },
  "language_info": {
   "codemirror_mode": {
    "name": "ipython",
    "version": 3
   },
   "file_extension": ".py",
   "mimetype": "text/x-python",
   "name": "python",
   "nbconvert_exporter": "python",
   "pygments_lexer": "ipython3",
   "version": "3.7.4"
  }
 },
 "nbformat": 4,
 "nbformat_minor": 2
}
